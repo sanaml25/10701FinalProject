{
 "cells": [
  {
   "cell_type": "code",
   "execution_count": 1,
   "metadata": {},
   "outputs": [],
   "source": [
    "import pandas as pd \n",
    "import numpy as np \n",
    "import re\n",
    "from nltk.corpus import stopwords\n",
    "from sklearn.feature_extraction.text import CountVectorizer\n",
    "import matplotlib.pyplot as plt\n",
    "import mord\n",
    "from sklearn.model_selection import train_test_split\n",
    "from sklearn.metrics import accuracy_score\n",
    "from sklearn import linear_model\n",
    "from sklearn.metrics import confusion_matrix\n",
    "import pickle"
   ]
  },
  {
   "cell_type": "code",
   "execution_count": 2,
   "metadata": {},
   "outputs": [
    {
     "name": "stdout",
     "output_type": "stream",
     "text": [
      "start\n",
      "0     5\n",
      "1     5\n",
      "2     1\n",
      "4     4\n",
      "5     3\n",
      "6     3\n",
      "7     5\n",
      "8     2\n",
      "9     5\n",
      "11    3\n",
      "Name: y, dtype: int64\n"
     ]
    }
   ],
   "source": [
    "print(\"start\")\n",
    "\n",
    "output = open(\"train4.pkl\", \"rb\")\n",
    "train = pickle.load(output)\n",
    "train = train.dropna()\n",
    "\n",
    "y = train[\"y\"]\n",
    "x = train.drop(\"y\", axis = 1)\n",
    "print(y.head(10))"
   ]
  },
  {
   "cell_type": "code",
   "execution_count": 3,
   "metadata": {},
   "outputs": [
    {
     "name": "stderr",
     "output_type": "stream",
     "text": [
      "/anaconda3/lib/python3.6/site-packages/sklearn/model_selection/_split.py:2026: FutureWarning: From version 0.21, test_size will always complement train_size unless both are specified.\n",
      "  FutureWarning)\n",
      "/anaconda3/lib/python3.6/site-packages/sklearn/ensemble/weight_boosting.py:29: DeprecationWarning: numpy.core.umath_tests is an internal NumPy module and should not be imported. It will be removed in a future NumPy release.\n",
      "  from numpy.core.umath_tests import inner1d\n"
     ]
    },
    {
     "data": {
      "text/plain": [
       "RandomForestClassifier(bootstrap=True, class_weight=None, criterion='gini',\n",
       "            max_depth=None, max_features='auto', max_leaf_nodes=None,\n",
       "            min_impurity_decrease=0.0, min_impurity_split=None,\n",
       "            min_samples_leaf=1, min_samples_split=2,\n",
       "            min_weight_fraction_leaf=0.0, n_estimators=500, n_jobs=1,\n",
       "            oob_score=False, random_state=None, verbose=0,\n",
       "            warm_start=False)"
      ]
     },
     "execution_count": 3,
     "metadata": {},
     "output_type": "execute_result"
    }
   ],
   "source": [
    "x_train, x_val, y_train, y_val = train_test_split(x, y, train_size = 0.75)\n",
    "\n",
    "# # Import the model we are using\n",
    "from sklearn.ensemble import RandomForestClassifier\n",
    "# Instantiate model with 100 decision trees\n",
    "rf = RandomForestClassifier(n_estimators=500)\n",
    "# Train the model on training data\n",
    "rf.fit(x_train, y_train)"
   ]
  },
  {
   "cell_type": "code",
   "execution_count": 4,
   "metadata": {},
   "outputs": [
    {
     "name": "stdout",
     "output_type": "stream",
     "text": [
      "Accuracy: 1.0\n",
      "[[2307    0    0    0    0]\n",
      " [   0 2765    0    0    0]\n",
      " [   0    0 4045    0    0]\n",
      " [   0    0    0 8185    0]\n",
      " [   0    0    0    0 8783]]\n"
     ]
    }
   ],
   "source": [
    "# Use the forest's predict method on the test data\n",
    "y_pred = rf.predict(x_train)\n",
    "# Calculate the absolute errors\n",
    "print(\"Accuracy:\",accuracy_score(y_train, y_pred))\n",
    "from sklearn.metrics import confusion_matrix\n",
    "cmatrix = confusion_matrix(y_train, y_pred)\n",
    "print(cmatrix)"
   ]
  },
  {
   "cell_type": "code",
   "execution_count": 5,
   "metadata": {},
   "outputs": [
    {
     "name": "stdout",
     "output_type": "stream",
     "text": [
      "Accuracy: 0.5196089706728004\n",
      "[[ 514   81   23  139   67]\n",
      " [ 217  144  114  366  106]\n",
      " [  63   48  149  835  188]\n",
      " [  24    9   35 1506 1145]\n",
      " [   9    1    8  699 2205]]\n"
     ]
    }
   ],
   "source": [
    "y_pred = rf.predict(x_val)\n",
    "# Calculate the absolute errors\n",
    "print(\"Accuracy:\",accuracy_score(y_val, y_pred))\n",
    "from sklearn.metrics import confusion_matrix\n",
    "cmatrix = confusion_matrix(y_val, y_pred)\n",
    "print(cmatrix)"
   ]
  },
  {
   "cell_type": "code",
   "execution_count": 6,
   "metadata": {},
   "outputs": [],
   "source": [
    "output = open(\"randomForestClassifier4.pkl\", \"wb\")\n",
    "pickle.dump(rf, output)\n",
    "\n",
    "# model = open(\"randomForestClassifier1.pkl\", \"rb\")\n",
    "# rf = pickle.load(model)\n",
    "# y_pred = rf.predict(x_val)\n",
    "# confusion_matrix = confusion_matrix(y_val, y_pred)\n",
    "# print(confusion_matrix)\n",
    "\n",
    "# print(\"Accuracy:\",accuracy_score(y_val, y_pred))"
   ]
  },
  {
   "cell_type": "code",
   "execution_count": null,
   "metadata": {},
   "outputs": [],
   "source": []
  }
 ],
 "metadata": {
  "kernelspec": {
   "display_name": "Python 3",
   "language": "python",
   "name": "python3"
  },
  "language_info": {
   "codemirror_mode": {
    "name": "ipython",
    "version": 3
   },
   "file_extension": ".py",
   "mimetype": "text/x-python",
   "name": "python",
   "nbconvert_exporter": "python",
   "pygments_lexer": "ipython3",
   "version": "3.6.9"
  }
 },
 "nbformat": 4,
 "nbformat_minor": 2
}
