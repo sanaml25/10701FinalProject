{
 "cells": [
  {
   "cell_type": "code",
   "execution_count": 1,
   "metadata": {},
   "outputs": [],
   "source": [
    "import numpy as np\n",
    "import pandas as pd\n",
    "import pickle\n",
    "from sklearn.model_selection import train_test_split"
   ]
  },
  {
   "cell_type": "code",
   "execution_count": 2,
   "metadata": {},
   "outputs": [
    {
     "name": "stdout",
     "output_type": "stream",
     "text": [
      "0     5\n",
      "1     5\n",
      "2     1\n",
      "4     4\n",
      "5     3\n",
      "6     3\n",
      "7     5\n",
      "8     2\n",
      "9     5\n",
      "11    3\n",
      "Name: y, dtype: int64\n"
     ]
    }
   ],
   "source": [
    "# doesn't matter which preprocessed set we use, no observations have been modified\n",
    "output = open(\"train3.pkl\", \"rb\")\n",
    "train = pickle.load(output)\n",
    "train = train.dropna()\n",
    "y = train[\"y\"]\n",
    "x = train.drop(\"y\", axis = 1)\n",
    "print(y.head(10))"
   ]
  },
  {
   "cell_type": "code",
   "execution_count": 3,
   "metadata": {},
   "outputs": [
    {
     "name": "stderr",
     "output_type": "stream",
     "text": [
      "/anaconda3/lib/python3.6/site-packages/sklearn/model_selection/_split.py:2026: FutureWarning: From version 0.21, test_size will always complement train_size unless both are specified.\n",
      "  FutureWarning)\n"
     ]
    }
   ],
   "source": [
    "train, val = train_test_split(train, train_size = 0.75)"
   ]
  },
  {
   "cell_type": "code",
   "execution_count": 4,
   "metadata": {},
   "outputs": [
    {
     "data": {
      "text/plain": [
       "5    8760\n",
       "4    8182\n",
       "3    3978\n",
       "2    2803\n",
       "1    2362\n",
       "Name: y, dtype: int64"
      ]
     },
     "execution_count": 4,
     "metadata": {},
     "output_type": "execute_result"
    }
   ],
   "source": [
    "train['y'].value_counts()"
   ]
  },
  {
   "cell_type": "code",
   "execution_count": 5,
   "metadata": {},
   "outputs": [
    {
     "name": "stdout",
     "output_type": "stream",
     "text": [
      "[2362, 2803, 3978, 8182, 8760]\n",
      "[0.09055012459267778, 0.10745639256277555, 0.1525014376078206, 0.3136668583477094, 0.3358251868890167]\n"
     ]
    }
   ],
   "source": [
    "# find the dsitribution of stars in train set\n",
    "dist = list(reversed(train['y'].value_counts().tolist()))\n",
    "print(dist)\n",
    "total = sum(dist)\n",
    "for i in range(len(dist)):\n",
    "    dist[i] = dist[i] / total\n",
    "print(dist)"
   ]
  },
  {
   "cell_type": "code",
   "execution_count": 6,
   "metadata": {},
   "outputs": [
    {
     "data": {
      "text/plain": [
       "8695"
      ]
     },
     "execution_count": 6,
     "metadata": {},
     "output_type": "execute_result"
    }
   ],
   "source": [
    "n = val.shape[0]\n",
    "n"
   ]
  },
  {
   "cell_type": "code",
   "execution_count": 7,
   "metadata": {},
   "outputs": [],
   "source": [
    "# guessing from a weighted discrete distribution\n",
    "guesses = np.random.choice(5, n, p = dist).tolist()\n",
    "true = val['y'].tolist()\n",
    "accuracy = 0\n",
    "for i in range(len(guesses)):\n",
    "    guesses[i] += 1\n",
    "    if (true[i] - guesses[i]) == 0:\n",
    "        accuracy += 1\n",
    "accuracy = accuracy / n"
   ]
  },
  {
   "cell_type": "code",
   "execution_count": 8,
   "metadata": {},
   "outputs": [
    {
     "data": {
      "text/plain": [
       "0.24519838987924095"
      ]
     },
     "execution_count": 8,
     "metadata": {},
     "output_type": "execute_result"
    }
   ],
   "source": [
    "accuracy"
   ]
  },
  {
   "cell_type": "code",
   "execution_count": 9,
   "metadata": {},
   "outputs": [],
   "source": [
    "# guessing the most commonly occuring value every time\n",
    "guesses = [5] * n\n",
    "for i in range(len(guesses)):\n",
    "    if (true[i] - guesses[i]) == 0:\n",
    "        accuracy += 1\n",
    "accuracy = accuracy / n"
   ]
  },
  {
   "cell_type": "code",
   "execution_count": 10,
   "metadata": {},
   "outputs": [
    {
     "data": {
      "text/plain": [
       "0.3387286024600206"
      ]
     },
     "execution_count": 10,
     "metadata": {},
     "output_type": "execute_result"
    }
   ],
   "source": [
    "accuracy"
   ]
  },
  {
   "cell_type": "code",
   "execution_count": null,
   "metadata": {},
   "outputs": [],
   "source": []
  }
 ],
 "metadata": {
  "kernelspec": {
   "display_name": "Python 3",
   "language": "python",
   "name": "python3"
  },
  "language_info": {
   "codemirror_mode": {
    "name": "ipython",
    "version": 3
   },
   "file_extension": ".py",
   "mimetype": "text/x-python",
   "name": "python",
   "nbconvert_exporter": "python",
   "pygments_lexer": "ipython3",
   "version": "3.6.9"
  }
 },
 "nbformat": 4,
 "nbformat_minor": 2
}
